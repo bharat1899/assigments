{
 "cells": [
  {
   "cell_type": "code",
   "execution_count": null,
   "id": "1080539d-07c3-4928-a2c5-7ffccc1bdaa8",
   "metadata": {},
   "outputs": [],
   "source": [
    "#question 1\n",
    "#for loop is used in the situation when we have to loop to complete the process like\n",
    "n=[\"bharat\",\"rawat\",\"tejal\",\"mishra\"]\n",
    "for i in n:\n",
    "    print(i)\n",
    "#while loop is work to satisfy the condition \n",
    "n = int(input())\n",
    "a= 0\n",
    "b = 1\n",
    "i = 0\n",
    "while i <=n:\n",
    "    print(a)\n",
    "    c= a+b\n",
    "    a = b\n",
    "    b= c\n",
    "    i=i+1"
   ]
  },
  {
   "cell_type": "code",
   "execution_count": 1,
   "id": "3374d9ba-add9-4889-82c9-f33e16c0b628",
   "metadata": {},
   "outputs": [
    {
     "name": "stdout",
     "output_type": "stream",
     "text": [
      "55\n",
      "3628800\n",
      "55\n",
      "3628800\n"
     ]
    }
   ],
   "source": [
    "#question2\n",
    "#using for loop sum of 10 natural number\n",
    "n = [1,2,3,4,5,6,7,8,9,10]\n",
    "j = 0\n",
    "for i in n:\n",
    "    \n",
    "    j= j+i\n",
    "print(j)\n",
    "#using for loop product of 10 natural number\n",
    "n = [1,2,3,4,5,6,7,8,9,10]\n",
    "j = 1\n",
    "for i in n:\n",
    "    \n",
    "    j= j*i\n",
    "print(j)\n",
    "#using while loop sum of 10 natural number\n",
    "i = 1\n",
    "j=0\n",
    "while i <=10:\n",
    "    j = j+i\n",
    "    i = i+1\n",
    "print(j)  \n",
    "#using while loop product of 10 natural number\n",
    "i = 1\n",
    "j=1\n",
    "while i <=10:\n",
    "    j = j*i\n",
    "    i = i+1\n",
    "print(j)    \n",
    "    \n",
    "    "
   ]
  },
  {
   "cell_type": "code",
   "execution_count": 1,
   "id": "86bf8d3a-3134-455f-a3df-84edd66d7a13",
   "metadata": {},
   "outputs": [
    {
     "name": "stdout",
     "output_type": "stream",
     "text": [
      "[2, 4, 5, 6, 8, 10, 12, 14, 15, 16, 18, 20, 22, 24, 25, 26, 28, 30, 32, 34, 35, 36, 38, 40, 42, 44, 45, 46, 48, 50, 52, 54, 55, 56, 58, 60, 62, 64, 65, 66, 68, 70, 72, 74, 75, 76, 78, 80, 82, 84, 85, 86, 88, 90, 92, 94, 95, 96, 98, 100]\n",
      "[0, 2, 4, 5, 6, 8, 10, 12, 14, 15, 16, 18, 20, 22, 24, 25, 26, 28, 30, 32, 34, 35, 36, 38, 40, 42, 44, 45, 46, 48, 50, 52, 54, 55, 56, 58, 60, 62, 64, 65, 66, 68, 70, 72, 74, 75, 76, 78, 80, 82, 84, 85, 86, 88, 90, 92, 94, 95, 96, 98, 100]\n"
     ]
    }
   ],
   "source": [
    "#question4 using for loop\n",
    "l=[]\n",
    "for i in list(range(1,101)):\n",
    "    cube = i**3\n",
    "    if cube%4==0 or cube%5==0:\n",
    "        l.append(i)\n",
    "print(l)\n",
    "#using while loop\n",
    "i= 0\n",
    "l=[]\n",
    "while i<=100:\n",
    "    cube = i**3\n",
    "    cube = i**3\n",
    "    if cube%4==0 or cube%5==0:\n",
    "        l.append(i)\n",
    "    i=i+1\n",
    "print(l)"
   ]
  },
  {
   "cell_type": "code",
   "execution_count": 9,
   "id": "ae8fed2f-0d8f-48dd-b1ef-08303707e3b0",
   "metadata": {},
   "outputs": [
    {
     "name": "stdout",
     "output_type": "stream",
     "text": [
      "Number of vowels in the string: 12\n"
     ]
    }
   ],
   "source": [
    "#question 5\n",
    "string = \"I want to become a data scientist\"\n",
    "vowels = \"aeiouAEIOU\"\n",
    "count = 0\n",
    "for char in string:\n",
    "    if char in vowels:\n",
    "        count += 1\n",
    "print(\"Number of vowels in the string:\", count)"
   ]
  },
  {
   "cell_type": "code",
   "execution_count": null,
   "id": "cf16d4fc-b6b7-4c04-b022-9ba68a17dd15",
   "metadata": {},
   "outputs": [],
   "source": [
    "#qyestion3\n",
    "units = int(input())\n",
    "if units <= 100:\n",
    "bill = units * 4.5\n",
    "elif units <= 200:\n",
    "bill = 100 * 4.5 + (units-100) * 6\n",
    "elif units <= 300:\n",
    "bill = 100 * 4.5 + 100 * 6 + (units-200) * 10\n",
    "else:\n",
    "bill = 100 * 4.5 + 100 * 6 + 100 * 10 + (units-300) * 20\n",
    "print(bill)\n"
   ]
  },
  {
   "cell_type": "code",
   "execution_count": null,
   "id": "84c315e1-bbb8-4875-a125-080e63a35ce5",
   "metadata": {},
   "outputs": [],
   "source": []
  }
 ],
 "metadata": {
  "kernelspec": {
   "display_name": "Python 3 (ipykernel)",
   "language": "python",
   "name": "python3"
  },
  "language_info": {
   "codemirror_mode": {
    "name": "ipython",
    "version": 3
   },
   "file_extension": ".py",
   "mimetype": "text/x-python",
   "name": "python",
   "nbconvert_exporter": "python",
   "pygments_lexer": "ipython3",
   "version": "3.10.6"
  }
 },
 "nbformat": 4,
 "nbformat_minor": 5
}
