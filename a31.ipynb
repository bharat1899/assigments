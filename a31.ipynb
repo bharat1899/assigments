{
 "cells": [
  {
   "cell_type": "code",
   "execution_count": 2,
   "id": "9b207afd-4ae1-4739-811e-d4f9e95ea9f0",
   "metadata": {},
   "outputs": [
    {
     "name": "stdin",
     "output_type": "stream",
     "text": [
      " 45\n"
     ]
    },
    {
     "name": "stdout",
     "output_type": "stream",
     "text": [
      "D\n"
     ]
    }
   ],
   "source": [
    "#question1\n",
    "n= int(input())\n",
    "if n >90:\n",
    "    print(\"A\")\n",
    "elif n >80 and n<=90:\n",
    "    print(\"B\")\n",
    "elif n>=60 and n<=80:\n",
    "    print(\"C\")\n",
    "else:\n",
    "    print(\"D\")"
   ]
  },
  {
   "cell_type": "code",
   "execution_count": 4,
   "id": "612334b2-4c57-4e09-bbcb-ac990067aba5",
   "metadata": {},
   "outputs": [
    {
     "name": "stdin",
     "output_type": "stream",
     "text": [
      " 43565\n"
     ]
    },
    {
     "name": "stdout",
     "output_type": "stream",
     "text": [
      "5%\n"
     ]
    }
   ],
   "source": [
    "#question2\n",
    "cp = int(input())\n",
    "if cp >100000:\n",
    "    print(\"15%\")\n",
    "elif cp>50000 and cp <= 100000:\n",
    "    print(\"10%\")\n",
    "else :\n",
    "    print(\"5%\")"
   ]
  },
  {
   "cell_type": "code",
   "execution_count": 10,
   "id": "62e6b3a2-9900-4411-9451-b41a3e3ea2b3",
   "metadata": {},
   "outputs": [
    {
     "name": "stdin",
     "output_type": "stream",
     "text": [
      "enter city name Jaipur\n"
     ]
    },
    {
     "name": "stdout",
     "output_type": "stream",
     "text": [
      "Jal Mahal\n"
     ]
    }
   ],
   "source": [
    "#question3\n",
    "city = str(input(\"enter city name\"))\n",
    "if city == \"delhi\" :\n",
    "    print(\"Red Fort\")\n",
    "elif city ==\"Agra\":\n",
    "    print(\"Taj Mahal\")\n",
    "elif city == \"Jaipur\":\n",
    "    print(\"Jal Mahal\")\n",
    "    "
   ]
  },
  {
   "cell_type": "code",
   "execution_count": null,
   "id": "34b2c9e2-c513-445e-be22-e3e0ae505d71",
   "metadata": {},
   "outputs": [],
   "source": [
    "#question 4\n",
    "def divide_by_3(n):\n",
    "    i = 0\n",
    "    while n >10:\n",
    "        n=n/3\n",
    "        i = i+1\n",
    "    return i \n",
    "n = int(input(\"write your number \"))\n",
    "result = divide_by_3(n)\n",
    "print(result)"
   ]
  },
  {
   "cell_type": "code",
   "execution_count": null,
   "id": "929206f4-8901-4db9-aa60-49770f126293",
   "metadata": {},
   "outputs": [],
   "source": [
    "#while loop is used when we use condition in the loop that till when the condtion is satisfied the loop continues to implement\n",
    "#example for while loop is\n",
    "n = int(input())\n",
    "a = 0\n",
    "b = 1\n",
    "i = 0\n",
    "while i <n :\n",
    "    print(a)\n",
    "    c = a+b\n",
    "    a= b\n",
    "    b = c\n",
    "    i =i+1\n"
   ]
  },
  {
   "cell_type": "code",
   "execution_count": null,
   "id": "103545f5-433e-4606-8e8f-a54bedc4660e",
   "metadata": {},
   "outputs": [],
   "source": [
    "#question 6\n",
    "#pattern 1\n",
    "n = int(input())\n",
    "i = 1\n",
    "while i <=n:\n",
    "    j = 1\n",
    "    while j <=i:\n",
    "        print(j,end=\" \")\n",
    "        j = j+1\n",
    "    print(\" \")\n",
    "    i = i+1\n",
    "#pattern2\n",
    "n = int(input())\n",
    "i = 1\n",
    "while i <=n:\n",
    "    j = 1\n",
    "    while j <=n:\n",
    "        print(j,end=\" \")\n",
    "        j = j+1\n",
    "    print(\" \")\n",
    "    \n",
    "    i = i+1\n",
    "#pattern 3\n",
    "n = int(input())\n",
    "i = 0\n",
    "while i <=n:\n",
    "    j = 1\n",
    "    while j <=n-i:\n",
    "        print(\"*\",end=\" \")\n",
    "        j = j+1\n",
    "    print(\" \")\n",
    "    \n",
    "    i = i+1"
   ]
  },
  {
   "cell_type": "code",
   "execution_count": null,
   "id": "4a0d1bc8-c4de-465d-9e83-dcead18c7320",
   "metadata": {},
   "outputs": [],
   "source": [
    "#question7\n",
    "n = 10\n",
    "i = 1\n",
    "j = n\n",
    "while i<=n:\n",
    "    print(j, end=\" \")\n",
    "    i = i+1\n",
    "    j = j-1\n",
    "    \n",
    "    "
   ]
  }
 ],
 "metadata": {
  "kernelspec": {
   "display_name": "Python 3 (ipykernel)",
   "language": "python",
   "name": "python3"
  },
  "language_info": {
   "codemirror_mode": {
    "name": "ipython",
    "version": 3
   },
   "file_extension": ".py",
   "mimetype": "text/x-python",
   "name": "python",
   "nbconvert_exporter": "python",
   "pygments_lexer": "ipython3",
   "version": "3.10.6"
  }
 },
 "nbformat": 4,
 "nbformat_minor": 5
}
