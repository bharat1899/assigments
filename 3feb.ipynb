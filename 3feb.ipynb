{
 "cells": [
  {
   "cell_type": "code",
   "execution_count": 1,
   "id": "a48f74ea-6119-47ed-b42e-d77e9e32906d",
   "metadata": {},
   "outputs": [
    {
     "name": "stdout",
     "output_type": "stream",
     "text": [
      "[1, 3, 5, 7, 9, 11, 13, 15, 17, 19, 21, 23, 25]\n"
     ]
    }
   ],
   "source": [
    "#question1\n",
    "#def is used to create functions\n",
    "def odd_num():\n",
    "    l = []\n",
    "    for i in range(1,26):\n",
    "        if i%2!=0:\n",
    "            l.append(i)\n",
    "    return l        \n",
    "            \n",
    "b = odd_num()\n",
    "print(b)"
   ]
  },
  {
   "cell_type": "code",
   "execution_count": 9,
   "id": "6994308e-c5ea-47ad-a774-15dcd6fff8c3",
   "metadata": {},
   "outputs": [
    {
     "data": {
      "text/plain": [
       "{'c': 'bharat', 'd': 'rawat'}"
      ]
     },
     "execution_count": 9,
     "metadata": {},
     "output_type": "execute_result"
    }
   ],
   "source": [
    "#qustion2\n",
    "#args is used for taking multiple inputs from the user while,kwargs is used when we want an outcome as a dictionary\n",
    "def a(*args):\n",
    "    return args\n",
    "def b(**kwargs):\n",
    "    return kwargs\n",
    "a(1234,44)\n",
    "b(c=\"bharat\",d=\"rawat\")"
   ]
  },
  {
   "cell_type": "code",
   "execution_count": 12,
   "id": "95e20adf-0e5b-4e47-904c-918009780088",
   "metadata": {},
   "outputs": [
    {
     "name": "stdout",
     "output_type": "stream",
     "text": [
      "2\n",
      "4\n",
      "6\n",
      "8\n",
      "10\n"
     ]
    }
   ],
   "source": [
    "#question3\n",
    "#iter in python is used to iter the sequence and give a single value at a time. iter() is used to iterate while next() is used\n",
    "# for initialising it.\n",
    "list= [2, 4, 6, 8, 10, 12, 14,16, 18, 20]\n",
    "iterate = iter(list)\n",
    "for i in range(5):\n",
    "    print(next(iterate))"
   ]
  },
  {
   "cell_type": "code",
   "execution_count": 15,
   "id": "d4c51c27-abd1-4a20-9117-71fef33e21dc",
   "metadata": {},
   "outputs": [
    {
     "name": "stdout",
     "output_type": "stream",
     "text": [
      "0\n",
      "1\n",
      "1\n",
      "2\n",
      "3\n",
      "5\n",
      "8\n",
      "13\n",
      "21\n",
      "34\n"
     ]
    }
   ],
   "source": [
    "#question 4\n",
    "#generator function is basically used for memory utilisation it inilisises the argument one by one\n",
    "#yield keyword is used to make a function a generator function\n",
    "def feb(n):\n",
    "    a,b = 0,1\n",
    "    for i in range(n):\n",
    "        yield a\n",
    "        a,b = b,a+b\n",
    "for i in feb(10):\n",
    "    print(i)"
   ]
  },
  {
   "cell_type": "code",
   "execution_count": 24,
   "id": "6e347184-ea7f-4837-8207-91e01d830032",
   "metadata": {},
   "outputs": [
    {
     "name": "stdout",
     "output_type": "stream",
     "text": [
      "1\n",
      "3\n",
      "5\n",
      "7\n",
      "9\n",
      "11\n",
      "13\n",
      "15\n",
      "17\n",
      "19\n",
      "21\n",
      "23\n",
      "25\n",
      "27\n",
      "29\n",
      "31\n",
      "33\n",
      "35\n",
      "37\n",
      "39\n"
     ]
    }
   ],
   "source": [
    "#question5\n",
    "def prime_no():\n",
    "    for i in range(2000):\n",
    "        if i%2!=0:\n",
    "            yield i \n",
    "prime = prime_no()            \n",
    "            \n",
    "for i in range(20):\n",
    "    print(next(prime))\n",
    "        "
   ]
  },
  {
   "cell_type": "code",
   "execution_count": 25,
   "id": "1d5124ae-0f96-4c3a-8687-84c277057e8b",
   "metadata": {},
   "outputs": [
    {
     "name": "stdin",
     "output_type": "stream",
     "text": [
      " 10\n"
     ]
    },
    {
     "name": "stdout",
     "output_type": "stream",
     "text": [
      "0\n",
      "1\n",
      "1\n",
      "2\n",
      "3\n",
      "5\n",
      "8\n",
      "13\n",
      "21\n",
      "34\n"
     ]
    }
   ],
   "source": [
    "#question 6\n",
    "a=0\n",
    "b=1\n",
    "n = int(input())\n",
    "i = 0\n",
    "while i <n:\n",
    "    print(a)\n",
    "    c = a+b\n",
    "    a=b\n",
    "    b = c\n",
    "    i= i+1"
   ]
  },
  {
   "cell_type": "code",
   "execution_count": 3,
   "id": "c38b824f-5528-43a7-a7c7-869fffd22e04",
   "metadata": {},
   "outputs": [
    {
     "data": {
      "text/plain": [
       "['p', 'w', 's', 'k', 'i', 'l', 'l', 's']"
      ]
     },
     "execution_count": 3,
     "metadata": {},
     "output_type": "execute_result"
    }
   ],
   "source": [
    "#question 7\n",
    "l= \"pwskills\"\n",
    "a = []\n",
    "[char for char in l if char in 'pwskills']"
   ]
  },
  {
   "cell_type": "code",
   "execution_count": 6,
   "id": "b1d4d156-a4ec-46c4-9dca-60e7a1b3f53f",
   "metadata": {},
   "outputs": [
    {
     "name": "stdin",
     "output_type": "stream",
     "text": [
      "Enter a number:  345\n"
     ]
    },
    {
     "name": "stdout",
     "output_type": "stream",
     "text": [
      "345 is not a palindrome number.\n"
     ]
    }
   ],
   "source": [
    "#question 8\n",
    "num = int(input(\"Enter a number: \"))\n",
    "\n",
    "# Store the original number\n",
    "original_num = num\n",
    "\n",
    "# Reverse the number using a while loop\n",
    "reverse_num = 0\n",
    "while num > 0:\n",
    "    remainder = num % 10\n",
    "    reverse_num = (reverse_num * 10) + remainder\n",
    "    num = num // 10\n",
    "\n",
    "# Check if the original number and the reversed number are the same\n",
    "if original_num == reverse_num:\n",
    "    print(original_num, \"is a palindrome number.\")\n",
    "else:\n",
    "    print(original_num, \"is not a palindrome number.\")\n",
    "\n"
   ]
  },
  {
   "cell_type": "code",
   "execution_count": 5,
   "id": "8b603db6-a435-47af-8232-f79e21616176",
   "metadata": {},
   "outputs": [
    {
     "data": {
      "text/plain": [
       "[1,\n",
       " 3,\n",
       " 5,\n",
       " 7,\n",
       " 9,\n",
       " 11,\n",
       " 13,\n",
       " 15,\n",
       " 17,\n",
       " 19,\n",
       " 21,\n",
       " 23,\n",
       " 25,\n",
       " 27,\n",
       " 29,\n",
       " 31,\n",
       " 33,\n",
       " 35,\n",
       " 37,\n",
       " 39,\n",
       " 41,\n",
       " 43,\n",
       " 45,\n",
       " 47,\n",
       " 49,\n",
       " 51,\n",
       " 53,\n",
       " 55,\n",
       " 57,\n",
       " 59,\n",
       " 61,\n",
       " 63,\n",
       " 65,\n",
       " 67,\n",
       " 69,\n",
       " 71,\n",
       " 73,\n",
       " 75,\n",
       " 77,\n",
       " 79,\n",
       " 81,\n",
       " 83,\n",
       " 85,\n",
       " 87,\n",
       " 89,\n",
       " 91,\n",
       " 93,\n",
       " 95,\n",
       " 97,\n",
       " 99]"
      ]
     },
     "execution_count": 5,
     "metadata": {},
     "output_type": "execute_result"
    }
   ],
   "source": [
    "#question 9\n",
    "[i for i in range(1,101) if i%2!=0]"
   ]
  },
  {
   "cell_type": "code",
   "execution_count": null,
   "id": "eaeca405-e279-4ac9-a602-13639d38b40c",
   "metadata": {},
   "outputs": [],
   "source": []
  }
 ],
 "metadata": {
  "kernelspec": {
   "display_name": "Python 3 (ipykernel)",
   "language": "python",
   "name": "python3"
  },
  "language_info": {
   "codemirror_mode": {
    "name": "ipython",
    "version": 3
   },
   "file_extension": ".py",
   "mimetype": "text/x-python",
   "name": "python",
   "nbconvert_exporter": "python",
   "pygments_lexer": "ipython3",
   "version": "3.10.6"
  }
 },
 "nbformat": 4,
 "nbformat_minor": 5
}
