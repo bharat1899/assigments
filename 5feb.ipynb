{
 "cells": [
  {
   "cell_type": "code",
   "execution_count": 1,
   "id": "bd9c147f-24ea-4ab1-92d8-18b60bb0c1b8",
   "metadata": {},
   "outputs": [],
   "source": [
    "#QUESTION1\n",
    "#IN Oops class is the blueprint and the object is the instance created from that blue print\n",
    "class Car:\n",
    "    def __init__(self, make, model, year):\n",
    "        self.make = make\n",
    "        self.model = model\n",
    "        self.year = year\n",
    "        self.speed = 0\n",
    "        \n",
    "    def start(self):\n",
    "        print(\"The car is starting.\")\n",
    "        \n",
    "    def accelerate(self, speed):\n",
    "        self.speed += speed\n",
    "        print(\"The car is now going at {} mph.\".format(self.speed))\n",
    "        \n",
    "    def brake(self):\n",
    "        self.speed = 0\n",
    "        print(\"The car has stopped.\")"
   ]
  },
  {
   "cell_type": "code",
   "execution_count": 2,
   "id": "cdd204cc-eb61-4521-9f86-ac99ef06542a",
   "metadata": {},
   "outputs": [
    {
     "data": {
      "text/plain": [
       "' four pillers of oops are\\n 1 inheritance,2.ploymorphism,3.abstraction,4.encapusaltion'"
      ]
     },
     "execution_count": 2,
     "metadata": {},
     "output_type": "execute_result"
    }
   ],
   "source": [
    "#question2\n",
    "\"\"\" four pillers of oops are\n",
    " 1 inheritance,2.ploymorphism,3.abstraction,4.encapusaltion\"\"\""
   ]
  },
  {
   "cell_type": "code",
   "execution_count": 3,
   "id": "1e4881e8-2b78-4f78-b912-b1fd192d5681",
   "metadata": {},
   "outputs": [],
   "source": [
    "#question3\n",
    "#__init__ function is used to initilize the function or to get data than initilize it\n",
    "class rawat:\n",
    "    def __init__(self,bharat,shubham):\n",
    "        self.bharat= bharat\n",
    "        self.shubham= shubham\n",
    "    def return_rawat(self):\n",
    "        return self.bharat,self.shubham\n",
    "        "
   ]
  },
  {
   "cell_type": "code",
   "execution_count": 4,
   "id": "cd21b8d7-ec46-4951-a672-3ba3a1cbf16c",
   "metadata": {},
   "outputs": [],
   "source": [
    "#question4\n",
    "#self is used in oops for assigning the class function to itself or it is basically a pointer to the class"
   ]
  },
  {
   "cell_type": "code",
   "execution_count": null,
   "id": "3614a3a9-4a0d-4d8a-a99b-4e99eb6ab419",
   "metadata": {},
   "outputs": [],
   "source": [
    "#question5\n",
    "#inheritance basically a property of oops to inherits the property of the derived class from the base class\n",
    "#and the derived class can use functions of base class\n",
    "#there are four types of inheritance single , mutiple,multilevel,hierarchical"
   ]
  }
 ],
 "metadata": {
  "kernelspec": {
   "display_name": "Python 3 (ipykernel)",
   "language": "python",
   "name": "python3"
  },
  "language_info": {
   "codemirror_mode": {
    "name": "ipython",
    "version": 3
   },
   "file_extension": ".py",
   "mimetype": "text/x-python",
   "name": "python",
   "nbconvert_exporter": "python",
   "pygments_lexer": "ipython3",
   "version": "3.10.6"
  }
 },
 "nbformat": 4,
 "nbformat_minor": 5
}
